{
 "cells": [
  {
   "cell_type": "code",
   "execution_count": 217,
   "id": "f59cf515",
   "metadata": {},
   "outputs": [],
   "source": [
    "# Importing libraries\n",
    "import pandas as pd\n",
    "import numpy as np\n",
    "import matplotlib.pyplot as plt\n",
    "%matplotlib inline\n",
    "import nltk\n",
    "from nltk.corpus import stopwords, wordnet\n",
    "import seaborn as sns\n",
    "import contractions\n",
    "import re\n",
    "import string\n",
    "from nltk.tokenize import word_tokenize"
   ]
  },
  {
   "cell_type": "code",
   "execution_count": 218,
   "id": "2c545564",
   "metadata": {},
   "outputs": [],
   "source": [
    "#loading the dataset\n",
    "tweet_df=train = pd.read_csv('/Users/akhil_kaundinya/Downloads/tweet-sentiment-extraction/train.csv')"
   ]
  },
  {
   "cell_type": "code",
   "execution_count": 219,
   "id": "756f15ff",
   "metadata": {},
   "outputs": [
    {
     "data": {
      "text/html": [
       "<div>\n",
       "<style scoped>\n",
       "    .dataframe tbody tr th:only-of-type {\n",
       "        vertical-align: middle;\n",
       "    }\n",
       "\n",
       "    .dataframe tbody tr th {\n",
       "        vertical-align: top;\n",
       "    }\n",
       "\n",
       "    .dataframe thead th {\n",
       "        text-align: right;\n",
       "    }\n",
       "</style>\n",
       "<table border=\"1\" class=\"dataframe\">\n",
       "  <thead>\n",
       "    <tr style=\"text-align: right;\">\n",
       "      <th></th>\n",
       "      <th>textID</th>\n",
       "      <th>text</th>\n",
       "      <th>selected_text</th>\n",
       "      <th>sentiment</th>\n",
       "    </tr>\n",
       "  </thead>\n",
       "  <tbody>\n",
       "    <tr>\n",
       "      <th>0</th>\n",
       "      <td>cb774db0d1</td>\n",
       "      <td>I`d have responded, if I were going</td>\n",
       "      <td>I`d have responded, if I were going</td>\n",
       "      <td>neutral</td>\n",
       "    </tr>\n",
       "    <tr>\n",
       "      <th>1</th>\n",
       "      <td>549e992a42</td>\n",
       "      <td>Sooo SAD I will miss you here in San Diego!!!</td>\n",
       "      <td>Sooo SAD</td>\n",
       "      <td>negative</td>\n",
       "    </tr>\n",
       "    <tr>\n",
       "      <th>2</th>\n",
       "      <td>088c60f138</td>\n",
       "      <td>my boss is bullying me...</td>\n",
       "      <td>bullying me</td>\n",
       "      <td>negative</td>\n",
       "    </tr>\n",
       "    <tr>\n",
       "      <th>3</th>\n",
       "      <td>9642c003ef</td>\n",
       "      <td>what interview! leave me alone</td>\n",
       "      <td>leave me alone</td>\n",
       "      <td>negative</td>\n",
       "    </tr>\n",
       "    <tr>\n",
       "      <th>4</th>\n",
       "      <td>358bd9e861</td>\n",
       "      <td>Sons of ****, why couldn`t they put them on t...</td>\n",
       "      <td>Sons of ****,</td>\n",
       "      <td>negative</td>\n",
       "    </tr>\n",
       "  </tbody>\n",
       "</table>\n",
       "</div>"
      ],
      "text/plain": [
       "       textID                                               text  \\\n",
       "0  cb774db0d1                I`d have responded, if I were going   \n",
       "1  549e992a42      Sooo SAD I will miss you here in San Diego!!!   \n",
       "2  088c60f138                          my boss is bullying me...   \n",
       "3  9642c003ef                     what interview! leave me alone   \n",
       "4  358bd9e861   Sons of ****, why couldn`t they put them on t...   \n",
       "\n",
       "                         selected_text sentiment  \n",
       "0  I`d have responded, if I were going   neutral  \n",
       "1                             Sooo SAD  negative  \n",
       "2                          bullying me  negative  \n",
       "3                       leave me alone  negative  \n",
       "4                        Sons of ****,  negative  "
      ]
     },
     "execution_count": 219,
     "metadata": {},
     "output_type": "execute_result"
    }
   ],
   "source": [
    "tweet_df.head()"
   ]
  },
  {
   "cell_type": "code",
   "execution_count": 220,
   "id": "7ad1f07b",
   "metadata": {},
   "outputs": [
    {
     "name": "stdout",
     "output_type": "stream",
     "text": [
      "(27481, 4)\n"
     ]
    }
   ],
   "source": [
    "print(tweet_df.shape)"
   ]
  },
  {
   "cell_type": "code",
   "execution_count": 221,
   "id": "f4cb9d5b",
   "metadata": {},
   "outputs": [
    {
     "name": "stdout",
     "output_type": "stream",
     "text": [
      "<class 'pandas.core.frame.DataFrame'>\n",
      "RangeIndex: 27481 entries, 0 to 27480\n",
      "Data columns (total 4 columns):\n",
      " #   Column         Non-Null Count  Dtype \n",
      "---  ------         --------------  ----- \n",
      " 0   textID         27481 non-null  object\n",
      " 1   text           27480 non-null  object\n",
      " 2   selected_text  27479 non-null  object\n",
      " 3   sentiment      27481 non-null  object\n",
      "dtypes: object(4)\n",
      "memory usage: 858.9+ KB\n"
     ]
    }
   ],
   "source": [
    "tweet_df.info()"
   ]
  },
  {
   "cell_type": "code",
   "execution_count": 222,
   "id": "e61171a2",
   "metadata": {},
   "outputs": [
    {
     "data": {
      "text/plain": [
       "textID           0\n",
       "text             1\n",
       "selected_text    2\n",
       "sentiment        0\n",
       "dtype: int64"
      ]
     },
     "execution_count": 222,
     "metadata": {},
     "output_type": "execute_result"
    }
   ],
   "source": [
    "#Checking for null values\n",
    "null_val=tweet_df.isna().sum()\n",
    "null_val"
   ]
  },
  {
   "cell_type": "code",
   "execution_count": 224,
   "id": "cf7b769e",
   "metadata": {},
   "outputs": [
    {
     "data": {
      "text/plain": [
       "<AxesSubplot:xlabel='Feature', ylabel='Percent missing'>"
      ]
     },
     "execution_count": 224,
     "metadata": {},
     "output_type": "execute_result"
    },
    {
     "data": {
      "image/png": "[encoded data removed]",
      "text/plain": [
       "<Figure size 720x432 with 1 Axes>"
      ]
     },
     "metadata": {
      "needs_background": "light"
     },
     "output_type": "display_data"
    }
   ],
   "source": [
    "null_val = pd.DataFrame(null_val)\n",
    "null_val.reset_index(inplace = True)\n",
    "null_val.columns = [\"Feature\",\"Percent missing\"]\n",
    "plt.figure(figsize = (10,6))\n",
    "plt.xticks(rotation=46)\n",
    "sns.barplot(x = \"Feature\",y =\"Percent missing\",data = null_val)"
   ]
  },
  {
   "cell_type": "code",
   "execution_count": 225,
   "id": "47c613c3",
   "metadata": {},
   "outputs": [
    {
     "data": {
      "text/html": [
       "<div>\n",
       "<style scoped>\n",
       "    .dataframe tbody tr th:only-of-type {\n",
       "        vertical-align: middle;\n",
       "    }\n",
       "\n",
       "    .dataframe tbody tr th {\n",
       "        vertical-align: top;\n",
       "    }\n",
       "\n",
       "    .dataframe thead th {\n",
       "        text-align: right;\n",
       "    }\n",
       "</style>\n",
       "<table border=\"1\" class=\"dataframe\">\n",
       "  <thead>\n",
       "    <tr style=\"text-align: right;\">\n",
       "      <th></th>\n",
       "      <th>textID</th>\n",
       "      <th>text</th>\n",
       "      <th>sentiment</th>\n",
       "    </tr>\n",
       "  </thead>\n",
       "  <tbody>\n",
       "    <tr>\n",
       "      <th>0</th>\n",
       "      <td>cb774db0d1</td>\n",
       "      <td>I`d have responded, if I were going</td>\n",
       "      <td>neutral</td>\n",
       "    </tr>\n",
       "    <tr>\n",
       "      <th>1</th>\n",
       "      <td>549e992a42</td>\n",
       "      <td>Sooo SAD I will miss you here in San Diego!!!</td>\n",
       "      <td>negative</td>\n",
       "    </tr>\n",
       "    <tr>\n",
       "      <th>2</th>\n",
       "      <td>088c60f138</td>\n",
       "      <td>my boss is bullying me...</td>\n",
       "      <td>negative</td>\n",
       "    </tr>\n",
       "    <tr>\n",
       "      <th>3</th>\n",
       "      <td>9642c003ef</td>\n",
       "      <td>what interview! leave me alone</td>\n",
       "      <td>negative</td>\n",
       "    </tr>\n",
       "    <tr>\n",
       "      <th>4</th>\n",
       "      <td>358bd9e861</td>\n",
       "      <td>Sons of ****, why couldn`t they put them on t...</td>\n",
       "      <td>negative</td>\n",
       "    </tr>\n",
       "  </tbody>\n",
       "</table>\n",
       "</div>"
      ],
      "text/plain": [
       "       textID                                               text sentiment\n",
       "0  cb774db0d1                I`d have responded, if I were going   neutral\n",
       "1  549e992a42      Sooo SAD I will miss you here in San Diego!!!  negative\n",
       "2  088c60f138                          my boss is bullying me...  negative\n",
       "3  9642c003ef                     what interview! leave me alone  negative\n",
       "4  358bd9e861   Sons of ****, why couldn`t they put them on t...  negative"
      ]
     },
     "execution_count": 225,
     "metadata": {},
     "output_type": "execute_result"
    }
   ],
   "source": [
    "#dropping selected_text column\n",
    "tweet_df.drop('selected_text', axis=1, inplace=True)\n",
    "tweet_df.head()"
   ]
  },
  {
   "cell_type": "code",
   "execution_count": 226,
   "id": "e3672ec8",
   "metadata": {},
   "outputs": [
    {
     "data": {
      "text/html": [
       "<div>\n",
       "<style scoped>\n",
       "    .dataframe tbody tr th:only-of-type {\n",
       "        vertical-align: middle;\n",
       "    }\n",
       "\n",
       "    .dataframe tbody tr th {\n",
       "        vertical-align: top;\n",
       "    }\n",
       "\n",
       "    .dataframe thead th {\n",
       "        text-align: right;\n",
       "    }\n",
       "</style>\n",
       "<table border=\"1\" class=\"dataframe\">\n",
       "  <thead>\n",
       "    <tr style=\"text-align: right;\">\n",
       "      <th></th>\n",
       "      <th>textID</th>\n",
       "      <th>text</th>\n",
       "      <th>sentiment</th>\n",
       "    </tr>\n",
       "  </thead>\n",
       "  <tbody>\n",
       "    <tr>\n",
       "      <th>314</th>\n",
       "      <td>fdb77c3752</td>\n",
       "      <td>NaN</td>\n",
       "      <td>neutral</td>\n",
       "    </tr>\n",
       "  </tbody>\n",
       "</table>\n",
       "</div>"
      ],
      "text/plain": [
       "         textID text sentiment\n",
       "314  fdb77c3752  NaN   neutral"
      ]
     },
     "execution_count": 226,
     "metadata": {},
     "output_type": "execute_result"
    }
   ],
   "source": [
    "#printing the missing value\n",
    "tweet_df[tweet_df.isna().any(axis=1)]"
   ]
  },
  {
   "cell_type": "code",
   "execution_count": 227,
   "id": "65d58e4b",
   "metadata": {},
   "outputs": [
    {
     "data": {
      "text/plain": [
       "textID       0\n",
       "text         0\n",
       "sentiment    0\n",
       "dtype: int64"
      ]
     },
     "execution_count": 227,
     "metadata": {},
     "output_type": "execute_result"
    }
   ],
   "source": [
    "#replacing the missing value\n",
    "tweet_df[\"text\"].fillna(\"It's interesting\", inplace = True)\n",
    "tweet_df.isna().sum()"
   ]
  },
  {
   "cell_type": "code",
   "execution_count": 228,
   "id": "c4a1fc1c",
   "metadata": {},
   "outputs": [
    {
     "data": {
      "text/plain": [
       "neutral     11118\n",
       "positive     8582\n",
       "negative     7781\n",
       "Name: sentiment, dtype: int64"
      ]
     },
     "execution_count": 228,
     "metadata": {},
     "output_type": "execute_result"
    }
   ],
   "source": [
    "# Sentiment Distribution\n",
    "tweet=train['sentiment'].value_counts()\n",
    "tweet"
   ]
  },
  {
   "cell_type": "code",
   "execution_count": 229,
   "id": "afb94b00",
   "metadata": {},
   "outputs": [
    {
     "data": {
      "image/png": "[encoded data removed]",
      "text/plain": [
       "<Figure size 504x432 with 1 Axes>"
      ]
     },
     "metadata": {},
     "output_type": "display_data"
    }
   ],
   "source": [
    "sns.set(font_scale=1.4)\n",
    "tweet_df['sentiment'].value_counts().plot(kind='bar', figsize=(7, 6), rot=0, color=[\"r\", \"g\", \"b\"])\n",
    "plt.xlabel(\"sentiment\", labelpad=14)\n",
    "plt.ylabel(\"Sentiment Count\", labelpad=14)\n",
    "plt.title(\"Sentiment Distribution\", y=1.02);"
   ]
  },
  {
   "cell_type": "code",
   "execution_count": 230,
   "id": "c3124c2f",
   "metadata": {},
   "outputs": [
    {
     "data": {
      "text/plain": [
       "<AxesSubplot:ylabel='sentiment'>"
      ]
     },
     "execution_count": 230,
     "metadata": {},
     "output_type": "execute_result"
    },
    {
     "data": {
      "image/png": "[encoded data removed]",
      "text/plain": [
       "<Figure size 432x432 with 1 Axes>"
      ]
     },
     "metadata": {},
     "output_type": "display_data"
    }
   ],
   "source": [
    "tweet.plot.pie(\n",
    "    labels=[\"neutral\", \"positive\", \"negative\"],\n",
    "    colors=[\"r\", \"g\", \"b\"],\n",
    "    autopct=\"%.2f\",\n",
    "    fontsize=20,\n",
    "    figsize=(6, 6),\n",
    ")"
   ]
  },
  {
   "cell_type": "code",
   "execution_count": 231,
   "id": "e76cbec4",
   "metadata": {},
   "outputs": [
    {
     "data": {
      "application/vnd.plotly.v1+json": {
       "config": {
        "plotlyServerURL": "https://plot.ly"
       },
       "data": [
        {
         "text": [
          "neutral",
          "positive",
          "negative"
         ],
         "title": {
          "position": "top center",
          "text": "Sentiment Distribution"
         },
         "type": "funnelarea",
         "values": [
          11118,
          8582,
          7781
         ]
        }
       ],
       "layout": {
        "template": {
         "data": {
          "bar": [
           {
            "error_x": {
             "color": "#2a3f5f"
            },
            "error_y": {
             "color": "#2a3f5f"
            },
            "marker": {
             "line": {
              "color": "#E5ECF6",
              "width": 0.5
             },
             "pattern": {
              "fillmode": "overlay",
              "size": 10,
              "solidity": 0.2
             }
            },
            "type": "bar"
           }
          ],
          "barpolar": [
           {
            "marker": {
             "line": {
              "color": "#E5ECF6",
              "width": 0.5
             },
             "pattern": {
              "fillmode": "overlay",
              "size": 10,
              "solidity": 0.2
             }
            },
            "type": "barpolar"
           }
          ],
          "carpet": [
           {
            "aaxis": {
             "endlinecolor": "#2a3f5f",
             "gridcolor": "white",
             "linecolor": "white",
             "minorgridcolor": "white",
             "startlinecolor": "#2a3f5f"
            },
            "baxis": {
             "endlinecolor": "#2a3f5f",
             "gridcolor": "white",
             "linecolor": "white",
             "minorgridcolor": "white",
             "startlinecolor": "#2a3f5f"
            },
            "type": "carpet"
           }
          ],
          "choropleth": [
           {
            "colorbar": {
             "outlinewidth": 0,
             "ticks": ""
            },
            "type": "choropleth"
           }
          ],
          "contour": [
           {
            "colorbar": {
             "outlinewidth": 0,
             "ticks": ""
            },
            "colorscale": [
             [
              0,
              "#0d0887"
             ],
             [
              0.1111111111111111,
              "#46039f"
             ],
             [
              0.2222222222222222,
              "#7201a8"
             ],
             [
              0.3333333333333333,
              "#9c179e"
             ],
             [
              0.4444444444444444,
              "#bd3786"
             ],
             [
              0.5555555555555556,
              "#d8576b"
             ],
             [
              0.6666666666666666,
              "#ed7953"
             ],
             [
              0.7777777777777778,
              "#fb9f3a"
             ],
             [
              0.8888888888888888,
              "#fdca26"
             ],
             [
              1,
              "#f0f921"
             ]
            ],
            "type": "contour"
           }
          ],
          "contourcarpet": [
           {
            "colorbar": {
             "outlinewidth": 0,
             "ticks": ""
            },
            "type": "contourcarpet"
           }
          ],
          "heatmap": [
           {
            "colorbar": {
             "outlinewidth": 0,
             "ticks": ""
            },
            "colorscale": [
             [
              0,
              "#0d0887"
             ],
             [
              0.1111111111111111,
              "#46039f"
             ],
             [
              0.2222222222222222,
              "#7201a8"
             ],
             [
              0.3333333333333333,
              "#9c179e"
             ],
             [
              0.4444444444444444,
              "#bd3786"
             ],
             [
              0.5555555555555556,
              "#d8576b"
             ],
             [
              0.6666666666666666,
              "#ed7953"
             ],
             [
              0.7777777777777778,
              "#fb9f3a"
             ],
             [
              0.8888888888888888,
              "#fdca26"
             ],
             [
              1,
              "#f0f921"
             ]
            ],
            "type": "heatmap"
           }
          ],
          "heatmapgl": [
           {
            "colorbar": {
             "outlinewidth": 0,
             "ticks": ""
            },
            "colorscale": [
             [
              0,
              "#0d0887"
             ],
             [
              0.1111111111111111,
              "#46039f"
             ],
             [
              0.2222222222222222,
              "#7201a8"
             ],
             [
              0.3333333333333333,
              "#9c179e"
             ],
             [
              0.4444444444444444,
              "#bd3786"
             ],
             [
              0.5555555555555556,
              "#d8576b"
             ],
             [
              0.6666666666666666,
              "#ed7953"
             ],
             [
              0.7777777777777778,
              "#fb9f3a"
             ],
             [
              0.8888888888888888,
              "#fdca26"
             ],
             [
              1,
              "#f0f921"
             ]
            ],
            "type": "heatmapgl"
           }
          ],
          "histogram": [
           {
            "marker": {
             "pattern": {
              "fillmode": "overlay",
              "size": 10,
              "solidity": 0.2
             }
            },
            "type": "histogram"
           }
          ],
          "histogram2d": [
           {
            "colorbar": {
             "outlinewidth": 0,
             "ticks": ""
            },
            "colorscale": [
             [
              0,
              "#0d0887"
             ],
             [
              0.1111111111111111,
              "#46039f"
             ],
             [
              0.2222222222222222,
              "#7201a8"
             ],
             [
              0.3333333333333333,
              "#9c179e"
             ],
             [
              0.4444444444444444,
              "#bd3786"
             ],
             [
              0.5555555555555556,
              "#d8576b"
             ],
             [
              0.6666666666666666,
              "#ed7953"
             ],
             [
              0.7777777777777778,
              "#fb9f3a"
             ],
             [
              0.8888888888888888,
              "#fdca26"
             ],
             [
              1,
              "#f0f921"
             ]
            ],
            "type": "histogram2d"
           }
          ],
          "histogram2dcontour": [
           {
            "colorbar": {
             "outlinewidth": 0,
             "ticks": ""
            },
            "colorscale": [
             [
              0,
              "#0d0887"
             ],
             [
              0.1111111111111111,
              "#46039f"
             ],
             [
              0.2222222222222222,
              "#7201a8"
             ],
             [
              0.3333333333333333,
              "#9c179e"
             ],
             [
              0.4444444444444444,
              "#bd3786"
             ],
             [
              0.5555555555555556,
              "#d8576b"
             ],
             [
              0.6666666666666666,
              "#ed7953"
             ],
             [
              0.7777777777777778,
              "#fb9f3a"
             ],
             [
              0.8888888888888888,
              "#fdca26"
             ],
             [
              1,
              "#f0f921"
             ]
            ],
            "type": "histogram2dcontour"
           }
          ],
          "mesh3d": [
           {
            "colorbar": {
             "outlinewidth": 0,
             "ticks": ""
            },
            "type": "mesh3d"
           }
          ],
          "parcoords": [
           {
            "line": {
             "colorbar": {
              "outlinewidth": 0,
              "ticks": ""
             }
            },
            "type": "parcoords"
           }
          ],
          "pie": [
           {
            "automargin": true,
            "type": "pie"
           }
          ],
          "scatter": [
           {
            "fillpattern": {
             "fillmode": "overlay",
             "size": 10,
             "solidity": 0.2
            },
            "type": "scatter"
           }
          ],
          "scatter3d": [
           {
            "line": {
             "colorbar": {
              "outlinewidth": 0,
              "ticks": ""
             }
            },
            "marker": {
             "colorbar": {
              "outlinewidth": 0,
              "ticks": ""
             }
            },
            "type": "scatter3d"
           }
          ],
          "scattercarpet": [
           {
            "marker": {
             "colorbar": {
              "outlinewidth": 0,
              "ticks": ""
             }
            },
            "type": "scattercarpet"
           }
          ],
          "scattergeo": [
           {
            "marker": {
             "colorbar": {
              "outlinewidth": 0,
              "ticks": ""
             }
            },
            "type": "scattergeo"
           }
          ],
          "scattergl": [
           {
            "marker": {
             "colorbar": {
              "outlinewidth": 0,
              "ticks": ""
             }
            },
            "type": "scattergl"
           }
          ],
          "scattermapbox": [
           {
            "marker": {
             "colorbar": {
              "outlinewidth": 0,
              "ticks": ""
             }
            },
            "type": "scattermapbox"
           }
          ],
          "scatterpolar": [
           {
            "marker": {
             "colorbar": {
              "outlinewidth": 0,
              "ticks": ""
             }
            },
            "type": "scatterpolar"
           }
          ],
          "scatterpolargl": [
           {
            "marker": {
             "colorbar": {
              "outlinewidth": 0,
              "ticks": ""
             }
            },
            "type": "scatterpolargl"
           }
          ],
          "scatterternary": [
           {
            "marker": {
             "colorbar": {
              "outlinewidth": 0,
              "ticks": ""
             }
            },
            "type": "scatterternary"
           }
          ],
          "surface": [
           {
            "colorbar": {
             "outlinewidth": 0,
             "ticks": ""
            },
            "colorscale": [
             [
              0,
              "#0d0887"
             ],
             [
              0.1111111111111111,
              "#46039f"
             ],
             [
              0.2222222222222222,
              "#7201a8"
             ],
             [
              0.3333333333333333,
              "#9c179e"
             ],
             [
              0.4444444444444444,
              "#bd3786"
             ],
             [
              0.5555555555555556,
              "#d8576b"
             ],
             [
              0.6666666666666666,
              "#ed7953"
             ],
             [
              0.7777777777777778,
              "#fb9f3a"
             ],
             [
              0.8888888888888888,
              "#fdca26"
             ],
             [
              1,
              "#f0f921"
             ]
            ],
            "type": "surface"
           }
          ],
          "table": [
           {
            "cells": {
             "fill": {
              "color": "#EBF0F8"
             },
             "line": {
              "color": "white"
             }
            },
            "header": {
             "fill": {
              "color": "#C8D4E3"
             },
             "line": {
              "color": "white"
             }
            },
            "type": "table"
           }
          ]
         },
         "layout": {
          "annotationdefaults": {
           "arrowcolor": "#2a3f5f",
           "arrowhead": 0,
           "arrowwidth": 1
          },
          "autotypenumbers": "strict",
          "coloraxis": {
           "colorbar": {
            "outlinewidth": 0,
            "ticks": ""
           }
          },
          "colorscale": {
           "diverging": [
            [
             0,
             "#8e0152"
            ],
            [
             0.1,
             "#c51b7d"
            ],
            [
             0.2,
             "#de77ae"
            ],
            [
             0.3,
             "#f1b6da"
            ],
            [
             0.4,
             "#fde0ef"
            ],
            [
             0.5,
             "#f7f7f7"
            ],
            [
             0.6,
             "#e6f5d0"
            ],
            [
             0.7,
             "#b8e186"
            ],
            [
             0.8,
             "#7fbc41"
            ],
            [
             0.9,
             "#4d9221"
            ],
            [
             1,
             "#276419"
            ]
           ],
           "sequential": [
            [
             0,
             "#0d0887"
            ],
            [
             0.1111111111111111,
             "#46039f"
            ],
            [
             0.2222222222222222,
             "#7201a8"
            ],
            [
             0.3333333333333333,
             "#9c179e"
            ],
            [
             0.4444444444444444,
             "#bd3786"
            ],
            [
             0.5555555555555556,
             "#d8576b"
            ],
            [
             0.6666666666666666,
             "#ed7953"
            ],
            [
             0.7777777777777778,
             "#fb9f3a"
            ],
            [
             0.8888888888888888,
             "#fdca26"
            ],
            [
             1,
             "#f0f921"
            ]
           ],
           "sequentialminus": [
            [
             0,
             "#0d0887"
            ],
            [
             0.1111111111111111,
             "#46039f"
            ],
            [
             0.2222222222222222,
             "#7201a8"
            ],
            [
             0.3333333333333333,
             "#9c179e"
            ],
            [
             0.4444444444444444,
             "#bd3786"
            ],
            [
             0.5555555555555556,
             "#d8576b"
            ],
            [
             0.6666666666666666,
             "#ed7953"
            ],
            [
             0.7777777777777778,
             "#fb9f3a"
            ],
            [
             0.8888888888888888,
             "#fdca26"
            ],
            [
             1,
             "#f0f921"
            ]
           ]
          },
          "colorway": [
           "#636efa",
           "#EF553B",
           "#00cc96",
           "#ab63fa",
           "#FFA15A",
           "#19d3f3",
           "#FF6692",
           "#B6E880",
           "#FF97FF",
           "#FECB52"
          ],
          "font": {
           "color": "#2a3f5f"
          },
          "geo": {
           "bgcolor": "white",
           "lakecolor": "white",
           "landcolor": "#E5ECF6",
           "showlakes": true,
           "showland": true,
           "subunitcolor": "white"
          },
          "hoverlabel": {
           "align": "left"
          },
          "hovermode": "closest",
          "mapbox": {
           "style": "light"
          },
          "paper_bgcolor": "white",
          "plot_bgcolor": "#E5ECF6",
          "polar": {
           "angularaxis": {
            "gridcolor": "white",
            "linecolor": "white",
            "ticks": ""
           },
           "bgcolor": "#E5ECF6",
           "radialaxis": {
            "gridcolor": "white",
            "linecolor": "white",
            "ticks": ""
           }
          },
          "scene": {
           "xaxis": {
            "backgroundcolor": "#E5ECF6",
            "gridcolor": "white",
            "gridwidth": 2,
            "linecolor": "white",
            "showbackground": true,
            "ticks": "",
            "zerolinecolor": "white"
           },
           "yaxis": {
            "backgroundcolor": "#E5ECF6",
            "gridcolor": "white",
            "gridwidth": 2,
            "linecolor": "white",
            "showbackground": true,
            "ticks": "",
            "zerolinecolor": "white"
           },
           "zaxis": {
            "backgroundcolor": "#E5ECF6",
            "gridcolor": "white",
            "gridwidth": 2,
            "linecolor": "white",
            "showbackground": true,
            "ticks": "",
            "zerolinecolor": "white"
           }
          },
          "shapedefaults": {
           "line": {
            "color": "#2a3f5f"
           }
          },
          "ternary": {
           "aaxis": {
            "gridcolor": "white",
            "linecolor": "white",
            "ticks": ""
           },
           "baxis": {
            "gridcolor": "white",
            "linecolor": "white",
            "ticks": ""
           },
           "bgcolor": "#E5ECF6",
           "caxis": {
            "gridcolor": "white",
            "linecolor": "white",
            "ticks": ""
           }
          },
          "title": {
           "x": 0.05
          },
          "xaxis": {
           "automargin": true,
           "gridcolor": "white",
           "linecolor": "white",
           "ticks": "",
           "title": {
            "standoff": 15
           },
           "zerolinecolor": "white",
           "zerolinewidth": 2
          },
          "yaxis": {
           "automargin": true,
           "gridcolor": "white",
           "linecolor": "white",
           "ticks": "",
           "title": {
            "standoff": 15
           },
           "zerolinecolor": "white",
           "zerolinewidth": 2
          }
         }
        }
       }
      },
      "text/html": [
       "<div>                            <div id=\"2ac0c279-8009-49fe-b465-e5f7f2876606\" class=\"plotly-graph-div\" style=\"height:525px; width:100%;\"></div>            <script type=\"text/javascript\">                require([\"plotly\"], function(Plotly) {                    window.PLOTLYENV=window.PLOTLYENV || {};                                    if (document.getElementById(\"2ac0c279-8009-49fe-b465-e5f7f2876606\")) {                    Plotly.newPlot(                        \"2ac0c279-8009-49fe-b465-e5f7f2876606\",                        [{\"text\":[\"neutral\",\"positive\",\"negative\"],\"title\":{\"position\":\"top center\",\"text\":\"Sentiment Distribution\"},\"values\":[11118,8582,7781],\"type\":\"funnelarea\"}],                        {\"template\":{\"data\":{\"histogram2dcontour\":[{\"type\":\"histogram2dcontour\",\"colorbar\":{\"outlinewidth\":0,\"ticks\":\"\"},\"colorscale\":[[0.0,\"#0d0887\"],[0.1111111111111111,\"#46039f\"],[0.2222222222222222,\"#7201a8\"],[0.3333333333333333,\"#9c179e\"],[0.4444444444444444,\"#bd3786\"],[0.5555555555555556,\"#d8576b\"],[0.6666666666666666,\"#ed7953\"],[0.7777777777777778,\"#fb9f3a\"],[0.8888888888888888,\"#fdca26\"],[1.0,\"#f0f921\"]]}],\"choropleth\":[{\"type\":\"choropleth\",\"colorbar\":{\"outlinewidth\":0,\"ticks\":\"\"}}],\"histogram2d\":[{\"type\":\"histogram2d\",\"colorbar\":{\"outlinewidth\":0,\"ticks\":\"\"},\"colorscale\":[[0.0,\"#0d0887\"],[0.1111111111111111,\"#46039f\"],[0.2222222222222222,\"#7201a8\"],[0.3333333333333333,\"#9c179e\"],[0.4444444444444444,\"#bd3786\"],[0.5555555555555556,\"#d8576b\"],[0.6666666666666666,\"#ed7953\"],[0.7777777777777778,\"#fb9f3a\"],[0.8888888888888888,\"#fdca26\"],[1.0,\"#f0f921\"]]}],\"heatmap\":[{\"type\":\"heatmap\",\"colorbar\":{\"outlinewidth\":0,\"ticks\":\"\"},\"colorscale\":[[0.0,\"#0d0887\"],[0.1111111111111111,\"#46039f\"],[0.2222222222222222,\"#7201a8\"],[0.3333333333333333,\"#9c179e\"],[0.4444444444444444,\"#bd3786\"],[0.5555555555555556,\"#d8576b\"],[0.6666666666666666,\"#ed7953\"],[0.7777777777777778,\"#fb9f3a\"],[0.8888888888888888,\"#fdca26\"],[1.0,\"#f0f921\"]]}],\"heatmapgl\":[{\"type\":\"heatmapgl\",\"colorbar\":{\"outlinewidth\":0,\"ticks\":\"\"},\"colorscale\":[[0.0,\"#0d0887\"],[0.1111111111111111,\"#46039f\"],[0.2222222222222222,\"#7201a8\"],[0.3333333333333333,\"#9c179e\"],[0.4444444444444444,\"#bd3786\"],[0.5555555555555556,\"#d8576b\"],[0.6666666666666666,\"#ed7953\"],[0.7777777777777778,\"#fb9f3a\"],[0.8888888888888888,\"#fdca26\"],[1.0,\"#f0f921\"]]}],\"contourcarpet\":[{\"type\":\"contourcarpet\",\"colorbar\":{\"outlinewidth\":0,\"ticks\":\"\"}}],\"contour\":[{\"type\":\"contour\",\"colorbar\":{\"outlinewidth\":0,\"ticks\":\"\"},\"colorscale\":[[0.0,\"#0d0887\"],[0.1111111111111111,\"#46039f\"],[0.2222222222222222,\"#7201a8\"],[0.3333333333333333,\"#9c179e\"],[0.4444444444444444,\"#bd3786\"],[0.5555555555555556,\"#d8576b\"],[0.6666666666666666,\"#ed7953\"],[0.7777777777777778,\"#fb9f3a\"],[0.8888888888888888,\"#fdca26\"],[1.0,\"#f0f921\"]]}],\"surface\":[{\"type\":\"surface\",\"colorbar\":{\"outlinewidth\":0,\"ticks\":\"\"},\"colorscale\":[[0.0,\"#0d0887\"],[0.1111111111111111,\"#46039f\"],[0.2222222222222222,\"#7201a8\"],[0.3333333333333333,\"#9c179e\"],[0.4444444444444444,\"#bd3786\"],[0.5555555555555556,\"#d8576b\"],[0.6666666666666666,\"#ed7953\"],[0.7777777777777778,\"#fb9f3a\"],[0.8888888888888888,\"#fdca26\"],[1.0,\"#f0f921\"]]}],\"mesh3d\":[{\"type\":\"mesh3d\",\"colorbar\":{\"outlinewidth\":0,\"ticks\":\"\"}}],\"scatter\":[{\"fillpattern\":{\"fillmode\":\"overlay\",\"size\":10,\"solidity\":0.2},\"type\":\"scatter\"}],\"parcoords\":[{\"type\":\"parcoords\",\"line\":{\"colorbar\":{\"outlinewidth\":0,\"ticks\":\"\"}}}],\"scatterpolargl\":[{\"type\":\"scatterpolargl\",\"marker\":{\"colorbar\":{\"outlinewidth\":0,\"ticks\":\"\"}}}],\"bar\":[{\"error_x\":{\"color\":\"#2a3f5f\"},\"error_y\":{\"color\":\"#2a3f5f\"},\"marker\":{\"line\":{\"color\":\"#E5ECF6\",\"width\":0.5},\"pattern\":{\"fillmode\":\"overlay\",\"size\":10,\"solidity\":0.2}},\"type\":\"bar\"}],\"scattergeo\":[{\"type\":\"scattergeo\",\"marker\":{\"colorbar\":{\"outlinewidth\":0,\"ticks\":\"\"}}}],\"scatterpolar\":[{\"type\":\"scatterpolar\",\"marker\":{\"colorbar\":{\"outlinewidth\":0,\"ticks\":\"\"}}}],\"histogram\":[{\"marker\":{\"pattern\":{\"fillmode\":\"overlay\",\"size\":10,\"solidity\":0.2}},\"type\":\"histogram\"}],\"scattergl\":[{\"type\":\"scattergl\",\"marker\":{\"colorbar\":{\"outlinewidth\":0,\"ticks\":\"\"}}}],\"scatter3d\":[{\"type\":\"scatter3d\",\"line\":{\"colorbar\":{\"outlinewidth\":0,\"ticks\":\"\"}},\"marker\":{\"colorbar\":{\"outlinewidth\":0,\"ticks\":\"\"}}}],\"scattermapbox\":[{\"type\":\"scattermapbox\",\"marker\":{\"colorbar\":{\"outlinewidth\":0,\"ticks\":\"\"}}}],\"scatterternary\":[{\"type\":\"scatterternary\",\"marker\":{\"colorbar\":{\"outlinewidth\":0,\"ticks\":\"\"}}}],\"scattercarpet\":[{\"type\":\"scattercarpet\",\"marker\":{\"colorbar\":{\"outlinewidth\":0,\"ticks\":\"\"}}}],\"carpet\":[{\"aaxis\":{\"endlinecolor\":\"#2a3f5f\",\"gridcolor\":\"white\",\"linecolor\":\"white\",\"minorgridcolor\":\"white\",\"startlinecolor\":\"#2a3f5f\"},\"baxis\":{\"endlinecolor\":\"#2a3f5f\",\"gridcolor\":\"white\",\"linecolor\":\"white\",\"minorgridcolor\":\"white\",\"startlinecolor\":\"#2a3f5f\"},\"type\":\"carpet\"}],\"table\":[{\"cells\":{\"fill\":{\"color\":\"#EBF0F8\"},\"line\":{\"color\":\"white\"}},\"header\":{\"fill\":{\"color\":\"#C8D4E3\"},\"line\":{\"color\":\"white\"}},\"type\":\"table\"}],\"barpolar\":[{\"marker\":{\"line\":{\"color\":\"#E5ECF6\",\"width\":0.5},\"pattern\":{\"fillmode\":\"overlay\",\"size\":10,\"solidity\":0.2}},\"type\":\"barpolar\"}],\"pie\":[{\"automargin\":true,\"type\":\"pie\"}]},\"layout\":{\"autotypenumbers\":\"strict\",\"colorway\":[\"#636efa\",\"#EF553B\",\"#00cc96\",\"#ab63fa\",\"#FFA15A\",\"#19d3f3\",\"#FF6692\",\"#B6E880\",\"#FF97FF\",\"#FECB52\"],\"font\":{\"color\":\"#2a3f5f\"},\"hovermode\":\"closest\",\"hoverlabel\":{\"align\":\"left\"},\"paper_bgcolor\":\"white\",\"plot_bgcolor\":\"#E5ECF6\",\"polar\":{\"bgcolor\":\"#E5ECF6\",\"angularaxis\":{\"gridcolor\":\"white\",\"linecolor\":\"white\",\"ticks\":\"\"},\"radialaxis\":{\"gridcolor\":\"white\",\"linecolor\":\"white\",\"ticks\":\"\"}},\"ternary\":{\"bgcolor\":\"#E5ECF6\",\"aaxis\":{\"gridcolor\":\"white\",\"linecolor\":\"white\",\"ticks\":\"\"},\"baxis\":{\"gridcolor\":\"white\",\"linecolor\":\"white\",\"ticks\":\"\"},\"caxis\":{\"gridcolor\":\"white\",\"linecolor\":\"white\",\"ticks\":\"\"}},\"coloraxis\":{\"colorbar\":{\"outlinewidth\":0,\"ticks\":\"\"}},\"colorscale\":{\"sequential\":[[0.0,\"#0d0887\"],[0.1111111111111111,\"#46039f\"],[0.2222222222222222,\"#7201a8\"],[0.3333333333333333,\"#9c179e\"],[0.4444444444444444,\"#bd3786\"],[0.5555555555555556,\"#d8576b\"],[0.6666666666666666,\"#ed7953\"],[0.7777777777777778,\"#fb9f3a\"],[0.8888888888888888,\"#fdca26\"],[1.0,\"#f0f921\"]],\"sequentialminus\":[[0.0,\"#0d0887\"],[0.1111111111111111,\"#46039f\"],[0.2222222222222222,\"#7201a8\"],[0.3333333333333333,\"#9c179e\"],[0.4444444444444444,\"#bd3786\"],[0.5555555555555556,\"#d8576b\"],[0.6666666666666666,\"#ed7953\"],[0.7777777777777778,\"#fb9f3a\"],[0.8888888888888888,\"#fdca26\"],[1.0,\"#f0f921\"]],\"diverging\":[[0,\"#8e0152\"],[0.1,\"#c51b7d\"],[0.2,\"#de77ae\"],[0.3,\"#f1b6da\"],[0.4,\"#fde0ef\"],[0.5,\"#f7f7f7\"],[0.6,\"#e6f5d0\"],[0.7,\"#b8e186\"],[0.8,\"#7fbc41\"],[0.9,\"#4d9221\"],[1,\"#276419\"]]},\"xaxis\":{\"gridcolor\":\"white\",\"linecolor\":\"white\",\"ticks\":\"\",\"title\":{\"standoff\":15},\"zerolinecolor\":\"white\",\"automargin\":true,\"zerolinewidth\":2},\"yaxis\":{\"gridcolor\":\"white\",\"linecolor\":\"white\",\"ticks\":\"\",\"title\":{\"standoff\":15},\"zerolinecolor\":\"white\",\"automargin\":true,\"zerolinewidth\":2},\"scene\":{\"xaxis\":{\"backgroundcolor\":\"#E5ECF6\",\"gridcolor\":\"white\",\"linecolor\":\"white\",\"showbackground\":true,\"ticks\":\"\",\"zerolinecolor\":\"white\",\"gridwidth\":2},\"yaxis\":{\"backgroundcolor\":\"#E5ECF6\",\"gridcolor\":\"white\",\"linecolor\":\"white\",\"showbackground\":true,\"ticks\":\"\",\"zerolinecolor\":\"white\",\"gridwidth\":2},\"zaxis\":{\"backgroundcolor\":\"#E5ECF6\",\"gridcolor\":\"white\",\"linecolor\":\"white\",\"showbackground\":true,\"ticks\":\"\",\"zerolinecolor\":\"white\",\"gridwidth\":2}},\"shapedefaults\":{\"line\":{\"color\":\"#2a3f5f\"}},\"annotationdefaults\":{\"arrowcolor\":\"#2a3f5f\",\"arrowhead\":0,\"arrowwidth\":1},\"geo\":{\"bgcolor\":\"white\",\"landcolor\":\"#E5ECF6\",\"subunitcolor\":\"white\",\"showland\":true,\"showlakes\":true,\"lakecolor\":\"white\"},\"title\":{\"x\":0.05},\"mapbox\":{\"style\":\"light\"}}}},                        {\"responsive\": true}                    ).then(function(){\n",
       "                            \n",
       "var gd = document.getElementById('2ac0c279-8009-49fe-b465-e5f7f2876606');\n",
       "var x = new MutationObserver(function (mutations, observer) {{\n",
       "        var display = window.getComputedStyle(gd).display;\n",
       "        if (!display || display === 'none') {{\n",
       "            console.log([gd, 'removed!']);\n",
       "            Plotly.purge(gd);\n",
       "            observer.disconnect();\n",
       "        }}\n",
       "}});\n",
       "\n",
       "// Listen for the removal of the full notebook cells\n",
       "var notebookContainer = gd.closest('#notebook-container');\n",
       "if (notebookContainer) {{\n",
       "    x.observe(notebookContainer, {childList: true});\n",
       "}}\n",
       "\n",
       "// Listen for the clearing of the current output cell\n",
       "var outputEl = gd.closest('.output');\n",
       "if (outputEl) {{\n",
       "    x.observe(outputEl, {childList: true});\n",
       "}}\n",
       "\n",
       "                        })                };                });            </script>        </div>"
      ]
     },
     "metadata": {},
     "output_type": "display_data"
    }
   ],
   "source": [
    "from plotly import graph_objects as go\n",
    "t_dist = go.Figure(go.Funnelarea(\n",
    "    text =temp.sentiment,\n",
    "    values = temp.text,\n",
    "    title = {\"position\": \"top center\", \"text\": \"Sentiment Distribution\"}\n",
    "    ))\n",
    "t_dist.show()"
   ]
  },
  {
   "cell_type": "markdown",
   "id": "b0478f1c",
   "metadata": {},
   "source": [
    "# Data Pre-Processing "
   ]
  },
  {
   "cell_type": "code",
   "execution_count": 232,
   "id": "52b992ac",
   "metadata": {},
   "outputs": [
    {
     "data": {
      "text/html": [
       "<div>\n",
       "<style scoped>\n",
       "    .dataframe tbody tr th:only-of-type {\n",
       "        vertical-align: middle;\n",
       "    }\n",
       "\n",
       "    .dataframe tbody tr th {\n",
       "        vertical-align: top;\n",
       "    }\n",
       "\n",
       "    .dataframe thead th {\n",
       "        text-align: right;\n",
       "    }\n",
       "</style>\n",
       "<table border=\"1\" class=\"dataframe\">\n",
       "  <thead>\n",
       "    <tr style=\"text-align: right;\">\n",
       "      <th></th>\n",
       "      <th>textID</th>\n",
       "      <th>text</th>\n",
       "      <th>sentiment</th>\n",
       "      <th>text_UpperCase</th>\n",
       "    </tr>\n",
       "  </thead>\n",
       "  <tbody>\n",
       "    <tr>\n",
       "      <th>0</th>\n",
       "      <td>cb774db0d1</td>\n",
       "      <td>I`d have responded, if I were going</td>\n",
       "      <td>neutral</td>\n",
       "      <td>I`D HAVE RESPONDED, IF I WERE GOING</td>\n",
       "    </tr>\n",
       "    <tr>\n",
       "      <th>1</th>\n",
       "      <td>549e992a42</td>\n",
       "      <td>Sooo SAD I will miss you here in San Diego!!!</td>\n",
       "      <td>negative</td>\n",
       "      <td>SOOO SAD I WILL MISS YOU HERE IN SAN DIEGO!!!</td>\n",
       "    </tr>\n",
       "    <tr>\n",
       "      <th>2</th>\n",
       "      <td>088c60f138</td>\n",
       "      <td>my boss is bullying me...</td>\n",
       "      <td>negative</td>\n",
       "      <td>MY BOSS IS BULLYING ME...</td>\n",
       "    </tr>\n",
       "    <tr>\n",
       "      <th>3</th>\n",
       "      <td>9642c003ef</td>\n",
       "      <td>what interview! leave me alone</td>\n",
       "      <td>negative</td>\n",
       "      <td>WHAT INTERVIEW! LEAVE ME ALONE</td>\n",
       "    </tr>\n",
       "    <tr>\n",
       "      <th>4</th>\n",
       "      <td>358bd9e861</td>\n",
       "      <td>Sons of ****, why couldn`t they put them on t...</td>\n",
       "      <td>negative</td>\n",
       "      <td>SONS OF ****, WHY COULDN`T THEY PUT THEM ON T...</td>\n",
       "    </tr>\n",
       "  </tbody>\n",
       "</table>\n",
       "</div>"
      ],
      "text/plain": [
       "       textID                                               text sentiment  \\\n",
       "0  cb774db0d1                I`d have responded, if I were going   neutral   \n",
       "1  549e992a42      Sooo SAD I will miss you here in San Diego!!!  negative   \n",
       "2  088c60f138                          my boss is bullying me...  negative   \n",
       "3  9642c003ef                     what interview! leave me alone  negative   \n",
       "4  358bd9e861   Sons of ****, why couldn`t they put them on t...  negative   \n",
       "\n",
       "                                      text_UpperCase  \n",
       "0                I`D HAVE RESPONDED, IF I WERE GOING  \n",
       "1      SOOO SAD I WILL MISS YOU HERE IN SAN DIEGO!!!  \n",
       "2                          MY BOSS IS BULLYING ME...  \n",
       "3                     WHAT INTERVIEW! LEAVE ME ALONE  \n",
       "4   SONS OF ****, WHY COULDN`T THEY PUT THEM ON T...  "
      ]
     },
     "execution_count": 232,
     "metadata": {},
     "output_type": "execute_result"
    }
   ],
   "source": [
    "#Capitalization on Text\n",
    "tweet_df[\"text_UpperCase\"] = tweet_df[\"text\"].apply(lambda t: t.upper())\n",
    "tweet_df.style.background_gradient(cmap='Red')\n",
    "tweet_df.head()"
   ]
  },
  {
   "cell_type": "code",
   "execution_count": 233,
   "id": "9e63817e",
   "metadata": {},
   "outputs": [
    {
     "data": {
      "text/html": [
       "<div>\n",
       "<style scoped>\n",
       "    .dataframe tbody tr th:only-of-type {\n",
       "        vertical-align: middle;\n",
       "    }\n",
       "\n",
       "    .dataframe tbody tr th {\n",
       "        vertical-align: top;\n",
       "    }\n",
       "\n",
       "    .dataframe thead th {\n",
       "        text-align: right;\n",
       "    }\n",
       "</style>\n",
       "<table border=\"1\" class=\"dataframe\">\n",
       "  <thead>\n",
       "    <tr style=\"text-align: right;\">\n",
       "      <th></th>\n",
       "      <th>textID</th>\n",
       "      <th>text</th>\n",
       "      <th>sentiment</th>\n",
       "      <th>text_UpperCase</th>\n",
       "      <th>no_txt_contrac</th>\n",
       "    </tr>\n",
       "  </thead>\n",
       "  <tbody>\n",
       "    <tr>\n",
       "      <th>0</th>\n",
       "      <td>cb774db0d1</td>\n",
       "      <td>I`d have responded, if I were going</td>\n",
       "      <td>neutral</td>\n",
       "      <td>I`D HAVE RESPONDED, IF I WERE GOING</td>\n",
       "      <td>I WOULD HAVE RESPONDED, IF I WERE GOING</td>\n",
       "    </tr>\n",
       "    <tr>\n",
       "      <th>1</th>\n",
       "      <td>549e992a42</td>\n",
       "      <td>Sooo SAD I will miss you here in San Diego!!!</td>\n",
       "      <td>negative</td>\n",
       "      <td>SOOO SAD I WILL MISS YOU HERE IN SAN DIEGO!!!</td>\n",
       "      <td>SOOO SAD I WILL MISS YOU HERE IN SAN DIEGO!!!</td>\n",
       "    </tr>\n",
       "    <tr>\n",
       "      <th>2</th>\n",
       "      <td>088c60f138</td>\n",
       "      <td>my boss is bullying me...</td>\n",
       "      <td>negative</td>\n",
       "      <td>MY BOSS IS BULLYING ME...</td>\n",
       "      <td>MY BOSS IS BULLYING ME...</td>\n",
       "    </tr>\n",
       "    <tr>\n",
       "      <th>3</th>\n",
       "      <td>9642c003ef</td>\n",
       "      <td>what interview! leave me alone</td>\n",
       "      <td>negative</td>\n",
       "      <td>WHAT INTERVIEW! LEAVE ME ALONE</td>\n",
       "      <td>WHAT INTERVIEW! LEAVE ME ALONE</td>\n",
       "    </tr>\n",
       "    <tr>\n",
       "      <th>4</th>\n",
       "      <td>358bd9e861</td>\n",
       "      <td>Sons of ****, why couldn`t they put them on t...</td>\n",
       "      <td>negative</td>\n",
       "      <td>SONS OF ****, WHY COULDN`T THEY PUT THEM ON T...</td>\n",
       "      <td>SONS OF ****, WHY COULD NOT THEY PUT THEM ON T...</td>\n",
       "    </tr>\n",
       "  </tbody>\n",
       "</table>\n",
       "</div>"
      ],
      "text/plain": [
       "       textID                                               text sentiment  \\\n",
       "0  cb774db0d1                I`d have responded, if I were going   neutral   \n",
       "1  549e992a42      Sooo SAD I will miss you here in San Diego!!!  negative   \n",
       "2  088c60f138                          my boss is bullying me...  negative   \n",
       "3  9642c003ef                     what interview! leave me alone  negative   \n",
       "4  358bd9e861   Sons of ****, why couldn`t they put them on t...  negative   \n",
       "\n",
       "                                      text_UpperCase  \\\n",
       "0                I`D HAVE RESPONDED, IF I WERE GOING   \n",
       "1      SOOO SAD I WILL MISS YOU HERE IN SAN DIEGO!!!   \n",
       "2                          MY BOSS IS BULLYING ME...   \n",
       "3                     WHAT INTERVIEW! LEAVE ME ALONE   \n",
       "4   SONS OF ****, WHY COULDN`T THEY PUT THEM ON T...   \n",
       "\n",
       "                                      no_txt_contrac  \n",
       "0            I WOULD HAVE RESPONDED, IF I WERE GOING  \n",
       "1      SOOO SAD I WILL MISS YOU HERE IN SAN DIEGO!!!  \n",
       "2                          MY BOSS IS BULLYING ME...  \n",
       "3                     WHAT INTERVIEW! LEAVE ME ALONE  \n",
       "4  SONS OF ****, WHY COULD NOT THEY PUT THEM ON T...  "
      ]
     },
     "execution_count": 233,
     "metadata": {},
     "output_type": "execute_result"
    }
   ],
   "source": [
    "#Removing text Contractions\n",
    "tweet_df['no_txt_contrac'] = tweet_df['text_UpperCase'].apply(lambda t: ' '.join([contractions.fix(word) for word in str(t).replace('`', '\\'').split()]))\n",
    "tweet_df.head()"
   ]
  },
  {
   "cell_type": "code",
   "execution_count": 234,
   "id": "186faf00",
   "metadata": {},
   "outputs": [],
   "source": [
    "#Cleaning the data by removing square breackets, http, url, special characters, punctuations and text/words containg numbers \n",
    "#stop_words = set(stopwords.words('english'))\n",
    "\n",
    "def tweet_df_clean(no_txt_contrac):\n",
    "    no_txt_contrac = re.sub('\\[.*?\\]', '', no_txt_contrac) #square brackets\n",
    "    no_txt_contrac = re.sub('https?://\\S+|www\\.\\S+', '', no_txt_contrac) #https\n",
    "    no_txt_contrac = re.sub('<.*?>+', '', no_txt_contrac) #special char\n",
    "    no_txt_contrac = re.sub('[%s]' % re.escape(string.punctuation), '', no_txt_contrac) #punctuations\n",
    "    no_txt_contrac = re.sub('\\n', '', no_txt_contrac) #spaces\n",
    "    no_txt_contrac = re.sub('\\w*\\d\\w*', '', no_txt_contrac) #words/sentances with numbers    \n",
    "    \n",
    "    #no_txt_contrac = ' '.join([word for word in no_txt_contrac.split() if word not in stop_words])\n",
    "    return no_txt_contrac"
   ]
  },
  {
   "cell_type": "code",
   "execution_count": 235,
   "id": "3723adbe",
   "metadata": {},
   "outputs": [
    {
     "data": {
      "text/html": [
       "<div>\n",
       "<style scoped>\n",
       "    .dataframe tbody tr th:only-of-type {\n",
       "        vertical-align: middle;\n",
       "    }\n",
       "\n",
       "    .dataframe tbody tr th {\n",
       "        vertical-align: top;\n",
       "    }\n",
       "\n",
       "    .dataframe thead th {\n",
       "        text-align: right;\n",
       "    }\n",
       "</style>\n",
       "<table border=\"1\" class=\"dataframe\">\n",
       "  <thead>\n",
       "    <tr style=\"text-align: right;\">\n",
       "      <th></th>\n",
       "      <th>textID</th>\n",
       "      <th>text</th>\n",
       "      <th>sentiment</th>\n",
       "      <th>text_UpperCase</th>\n",
       "      <th>no_txt_contrac</th>\n",
       "      <th>Clean_text</th>\n",
       "    </tr>\n",
       "  </thead>\n",
       "  <tbody>\n",
       "    <tr>\n",
       "      <th>0</th>\n",
       "      <td>cb774db0d1</td>\n",
       "      <td>I`d have responded, if I were going</td>\n",
       "      <td>neutral</td>\n",
       "      <td>I`D HAVE RESPONDED, IF I WERE GOING</td>\n",
       "      <td>I WOULD HAVE RESPONDED, IF I WERE GOING</td>\n",
       "      <td>I WOULD HAVE RESPONDED IF I WERE GOING</td>\n",
       "    </tr>\n",
       "    <tr>\n",
       "      <th>1</th>\n",
       "      <td>549e992a42</td>\n",
       "      <td>Sooo SAD I will miss you here in San Diego!!!</td>\n",
       "      <td>negative</td>\n",
       "      <td>SOOO SAD I WILL MISS YOU HERE IN SAN DIEGO!!!</td>\n",
       "      <td>SOOO SAD I WILL MISS YOU HERE IN SAN DIEGO!!!</td>\n",
       "      <td>SOOO SAD I WILL MISS YOU HERE IN SAN DIEGO</td>\n",
       "    </tr>\n",
       "    <tr>\n",
       "      <th>2</th>\n",
       "      <td>088c60f138</td>\n",
       "      <td>my boss is bullying me...</td>\n",
       "      <td>negative</td>\n",
       "      <td>MY BOSS IS BULLYING ME...</td>\n",
       "      <td>MY BOSS IS BULLYING ME...</td>\n",
       "      <td>MY BOSS IS BULLYING ME</td>\n",
       "    </tr>\n",
       "    <tr>\n",
       "      <th>3</th>\n",
       "      <td>9642c003ef</td>\n",
       "      <td>what interview! leave me alone</td>\n",
       "      <td>negative</td>\n",
       "      <td>WHAT INTERVIEW! LEAVE ME ALONE</td>\n",
       "      <td>WHAT INTERVIEW! LEAVE ME ALONE</td>\n",
       "      <td>WHAT INTERVIEW LEAVE ME ALONE</td>\n",
       "    </tr>\n",
       "    <tr>\n",
       "      <th>4</th>\n",
       "      <td>358bd9e861</td>\n",
       "      <td>Sons of ****, why couldn`t they put them on t...</td>\n",
       "      <td>negative</td>\n",
       "      <td>SONS OF ****, WHY COULDN`T THEY PUT THEM ON T...</td>\n",
       "      <td>SONS OF ****, WHY COULD NOT THEY PUT THEM ON T...</td>\n",
       "      <td>SONS OF  WHY COULD NOT THEY PUT THEM ON THE RE...</td>\n",
       "    </tr>\n",
       "  </tbody>\n",
       "</table>\n",
       "</div>"
      ],
      "text/plain": [
       "       textID                                               text sentiment  \\\n",
       "0  cb774db0d1                I`d have responded, if I were going   neutral   \n",
       "1  549e992a42      Sooo SAD I will miss you here in San Diego!!!  negative   \n",
       "2  088c60f138                          my boss is bullying me...  negative   \n",
       "3  9642c003ef                     what interview! leave me alone  negative   \n",
       "4  358bd9e861   Sons of ****, why couldn`t they put them on t...  negative   \n",
       "\n",
       "                                      text_UpperCase  \\\n",
       "0                I`D HAVE RESPONDED, IF I WERE GOING   \n",
       "1      SOOO SAD I WILL MISS YOU HERE IN SAN DIEGO!!!   \n",
       "2                          MY BOSS IS BULLYING ME...   \n",
       "3                     WHAT INTERVIEW! LEAVE ME ALONE   \n",
       "4   SONS OF ****, WHY COULDN`T THEY PUT THEM ON T...   \n",
       "\n",
       "                                      no_txt_contrac  \\\n",
       "0            I WOULD HAVE RESPONDED, IF I WERE GOING   \n",
       "1      SOOO SAD I WILL MISS YOU HERE IN SAN DIEGO!!!   \n",
       "2                          MY BOSS IS BULLYING ME...   \n",
       "3                     WHAT INTERVIEW! LEAVE ME ALONE   \n",
       "4  SONS OF ****, WHY COULD NOT THEY PUT THEM ON T...   \n",
       "\n",
       "                                          Clean_text  \n",
       "0             I WOULD HAVE RESPONDED IF I WERE GOING  \n",
       "1         SOOO SAD I WILL MISS YOU HERE IN SAN DIEGO  \n",
       "2                             MY BOSS IS BULLYING ME  \n",
       "3                      WHAT INTERVIEW LEAVE ME ALONE  \n",
       "4  SONS OF  WHY COULD NOT THEY PUT THEM ON THE RE...  "
      ]
     },
     "execution_count": 235,
     "metadata": {},
     "output_type": "execute_result"
    }
   ],
   "source": [
    "#printing the cleaned data\n",
    "tweet_df['Clean_text'] = tweet_df['no_txt_contrac'].apply(lambda t:tweet_df_clean(t))\n",
    "tweet_df.head()"
   ]
  },
  {
   "cell_type": "code",
   "execution_count": 236,
   "id": "fac27a15",
   "metadata": {},
   "outputs": [
    {
     "data": {
      "text/html": [
       "<div>\n",
       "<style scoped>\n",
       "    .dataframe tbody tr th:only-of-type {\n",
       "        vertical-align: middle;\n",
       "    }\n",
       "\n",
       "    .dataframe tbody tr th {\n",
       "        vertical-align: top;\n",
       "    }\n",
       "\n",
       "    .dataframe thead th {\n",
       "        text-align: right;\n",
       "    }\n",
       "</style>\n",
       "<table border=\"1\" class=\"dataframe\">\n",
       "  <thead>\n",
       "    <tr style=\"text-align: right;\">\n",
       "      <th></th>\n",
       "      <th>textID</th>\n",
       "      <th>text</th>\n",
       "      <th>sentiment</th>\n",
       "      <th>text_UpperCase</th>\n",
       "      <th>no_txt_contrac</th>\n",
       "      <th>Clean_text</th>\n",
       "      <th>tokenized_text</th>\n",
       "    </tr>\n",
       "  </thead>\n",
       "  <tbody>\n",
       "    <tr>\n",
       "      <th>0</th>\n",
       "      <td>cb774db0d1</td>\n",
       "      <td>I`d have responded, if I were going</td>\n",
       "      <td>neutral</td>\n",
       "      <td>I`D HAVE RESPONDED, IF I WERE GOING</td>\n",
       "      <td>I WOULD HAVE RESPONDED, IF I WERE GOING</td>\n",
       "      <td>I WOULD HAVE RESPONDED IF I WERE GOING</td>\n",
       "      <td>[I, WOULD, HAVE, RESPONDED, IF, I, WERE, GOING]</td>\n",
       "    </tr>\n",
       "    <tr>\n",
       "      <th>1</th>\n",
       "      <td>549e992a42</td>\n",
       "      <td>Sooo SAD I will miss you here in San Diego!!!</td>\n",
       "      <td>negative</td>\n",
       "      <td>SOOO SAD I WILL MISS YOU HERE IN SAN DIEGO!!!</td>\n",
       "      <td>SOOO SAD I WILL MISS YOU HERE IN SAN DIEGO!!!</td>\n",
       "      <td>SOOO SAD I WILL MISS YOU HERE IN SAN DIEGO</td>\n",
       "      <td>[SOOO, SAD, I, WILL, MISS, YOU, HERE, IN, SAN,...</td>\n",
       "    </tr>\n",
       "    <tr>\n",
       "      <th>2</th>\n",
       "      <td>088c60f138</td>\n",
       "      <td>my boss is bullying me...</td>\n",
       "      <td>negative</td>\n",
       "      <td>MY BOSS IS BULLYING ME...</td>\n",
       "      <td>MY BOSS IS BULLYING ME...</td>\n",
       "      <td>MY BOSS IS BULLYING ME</td>\n",
       "      <td>[MY, BOSS, IS, BULLYING, ME]</td>\n",
       "    </tr>\n",
       "    <tr>\n",
       "      <th>3</th>\n",
       "      <td>9642c003ef</td>\n",
       "      <td>what interview! leave me alone</td>\n",
       "      <td>negative</td>\n",
       "      <td>WHAT INTERVIEW! LEAVE ME ALONE</td>\n",
       "      <td>WHAT INTERVIEW! LEAVE ME ALONE</td>\n",
       "      <td>WHAT INTERVIEW LEAVE ME ALONE</td>\n",
       "      <td>[WHAT, INTERVIEW, LEAVE, ME, ALONE]</td>\n",
       "    </tr>\n",
       "    <tr>\n",
       "      <th>4</th>\n",
       "      <td>358bd9e861</td>\n",
       "      <td>Sons of ****, why couldn`t they put them on t...</td>\n",
       "      <td>negative</td>\n",
       "      <td>SONS OF ****, WHY COULDN`T THEY PUT THEM ON T...</td>\n",
       "      <td>SONS OF ****, WHY COULD NOT THEY PUT THEM ON T...</td>\n",
       "      <td>SONS OF  WHY COULD NOT THEY PUT THEM ON THE RE...</td>\n",
       "      <td>[SONS, OF, WHY, COULD, NOT, THEY, PUT, THEM, O...</td>\n",
       "    </tr>\n",
       "  </tbody>\n",
       "</table>\n",
       "</div>"
      ],
      "text/plain": [
       "       textID                                               text sentiment  \\\n",
       "0  cb774db0d1                I`d have responded, if I were going   neutral   \n",
       "1  549e992a42      Sooo SAD I will miss you here in San Diego!!!  negative   \n",
       "2  088c60f138                          my boss is bullying me...  negative   \n",
       "3  9642c003ef                     what interview! leave me alone  negative   \n",
       "4  358bd9e861   Sons of ****, why couldn`t they put them on t...  negative   \n",
       "\n",
       "                                      text_UpperCase  \\\n",
       "0                I`D HAVE RESPONDED, IF I WERE GOING   \n",
       "1      SOOO SAD I WILL MISS YOU HERE IN SAN DIEGO!!!   \n",
       "2                          MY BOSS IS BULLYING ME...   \n",
       "3                     WHAT INTERVIEW! LEAVE ME ALONE   \n",
       "4   SONS OF ****, WHY COULDN`T THEY PUT THEM ON T...   \n",
       "\n",
       "                                      no_txt_contrac  \\\n",
       "0            I WOULD HAVE RESPONDED, IF I WERE GOING   \n",
       "1      SOOO SAD I WILL MISS YOU HERE IN SAN DIEGO!!!   \n",
       "2                          MY BOSS IS BULLYING ME...   \n",
       "3                     WHAT INTERVIEW! LEAVE ME ALONE   \n",
       "4  SONS OF ****, WHY COULD NOT THEY PUT THEM ON T...   \n",
       "\n",
       "                                          Clean_text  \\\n",
       "0             I WOULD HAVE RESPONDED IF I WERE GOING   \n",
       "1         SOOO SAD I WILL MISS YOU HERE IN SAN DIEGO   \n",
       "2                             MY BOSS IS BULLYING ME   \n",
       "3                      WHAT INTERVIEW LEAVE ME ALONE   \n",
       "4  SONS OF  WHY COULD NOT THEY PUT THEM ON THE RE...   \n",
       "\n",
       "                                      tokenized_text  \n",
       "0    [I, WOULD, HAVE, RESPONDED, IF, I, WERE, GOING]  \n",
       "1  [SOOO, SAD, I, WILL, MISS, YOU, HERE, IN, SAN,...  \n",
       "2                       [MY, BOSS, IS, BULLYING, ME]  \n",
       "3                [WHAT, INTERVIEW, LEAVE, ME, ALONE]  \n",
       "4  [SONS, OF, WHY, COULD, NOT, THEY, PUT, THEM, O...  "
      ]
     },
     "execution_count": 236,
     "metadata": {},
     "output_type": "execute_result"
    }
   ],
   "source": [
    "#tokenizing the text\n",
    "tweet_df['tokenized_text'] = tweet_df['Clean_text'].apply(word_tokenize)\n",
    "tweet_df.head()"
   ]
  },
  {
   "cell_type": "code",
   "execution_count": 237,
   "id": "1b0d2532",
   "metadata": {},
   "outputs": [
    {
     "data": {
      "text/html": [
       "<div>\n",
       "<style scoped>\n",
       "    .dataframe tbody tr th:only-of-type {\n",
       "        vertical-align: middle;\n",
       "    }\n",
       "\n",
       "    .dataframe tbody tr th {\n",
       "        vertical-align: top;\n",
       "    }\n",
       "\n",
       "    .dataframe thead th {\n",
       "        text-align: right;\n",
       "    }\n",
       "</style>\n",
       "<table border=\"1\" class=\"dataframe\">\n",
       "  <thead>\n",
       "    <tr style=\"text-align: right;\">\n",
       "      <th></th>\n",
       "      <th>textID</th>\n",
       "      <th>text</th>\n",
       "      <th>sentiment</th>\n",
       "      <th>text_UpperCase</th>\n",
       "      <th>no_txt_contrac</th>\n",
       "      <th>Clean_text</th>\n",
       "      <th>tokenized_text</th>\n",
       "      <th>stopwords</th>\n",
       "    </tr>\n",
       "  </thead>\n",
       "  <tbody>\n",
       "    <tr>\n",
       "      <th>0</th>\n",
       "      <td>cb774db0d1</td>\n",
       "      <td>I`d have responded, if I were going</td>\n",
       "      <td>neutral</td>\n",
       "      <td>I`D HAVE RESPONDED, IF I WERE GOING</td>\n",
       "      <td>I WOULD HAVE RESPONDED, IF I WERE GOING</td>\n",
       "      <td>I WOULD HAVE RESPONDED IF I WERE GOING</td>\n",
       "      <td>[I, WOULD, HAVE, RESPONDED, IF, I, WERE, GOING]</td>\n",
       "      <td>[I, WOULD, HAVE, RESPONDED, IF, I, WERE, GOING]</td>\n",
       "    </tr>\n",
       "    <tr>\n",
       "      <th>1</th>\n",
       "      <td>549e992a42</td>\n",
       "      <td>Sooo SAD I will miss you here in San Diego!!!</td>\n",
       "      <td>negative</td>\n",
       "      <td>SOOO SAD I WILL MISS YOU HERE IN SAN DIEGO!!!</td>\n",
       "      <td>SOOO SAD I WILL MISS YOU HERE IN SAN DIEGO!!!</td>\n",
       "      <td>SOOO SAD I WILL MISS YOU HERE IN SAN DIEGO</td>\n",
       "      <td>[SOOO, SAD, I, WILL, MISS, YOU, HERE, IN, SAN,...</td>\n",
       "      <td>[SOOO, SAD, I, WILL, MISS, YOU, HERE, IN, SAN,...</td>\n",
       "    </tr>\n",
       "    <tr>\n",
       "      <th>2</th>\n",
       "      <td>088c60f138</td>\n",
       "      <td>my boss is bullying me...</td>\n",
       "      <td>negative</td>\n",
       "      <td>MY BOSS IS BULLYING ME...</td>\n",
       "      <td>MY BOSS IS BULLYING ME...</td>\n",
       "      <td>MY BOSS IS BULLYING ME</td>\n",
       "      <td>[MY, BOSS, IS, BULLYING, ME]</td>\n",
       "      <td>[MY, BOSS, IS, BULLYING, ME]</td>\n",
       "    </tr>\n",
       "    <tr>\n",
       "      <th>3</th>\n",
       "      <td>9642c003ef</td>\n",
       "      <td>what interview! leave me alone</td>\n",
       "      <td>negative</td>\n",
       "      <td>WHAT INTERVIEW! LEAVE ME ALONE</td>\n",
       "      <td>WHAT INTERVIEW! LEAVE ME ALONE</td>\n",
       "      <td>WHAT INTERVIEW LEAVE ME ALONE</td>\n",
       "      <td>[WHAT, INTERVIEW, LEAVE, ME, ALONE]</td>\n",
       "      <td>[WHAT, INTERVIEW, LEAVE, ME, ALONE]</td>\n",
       "    </tr>\n",
       "    <tr>\n",
       "      <th>4</th>\n",
       "      <td>358bd9e861</td>\n",
       "      <td>Sons of ****, why couldn`t they put them on t...</td>\n",
       "      <td>negative</td>\n",
       "      <td>SONS OF ****, WHY COULDN`T THEY PUT THEM ON T...</td>\n",
       "      <td>SONS OF ****, WHY COULD NOT THEY PUT THEM ON T...</td>\n",
       "      <td>SONS OF  WHY COULD NOT THEY PUT THEM ON THE RE...</td>\n",
       "      <td>[SONS, OF, WHY, COULD, NOT, THEY, PUT, THEM, O...</td>\n",
       "      <td>[SONS, OF, WHY, COULD, NOT, THEY, PUT, THEM, O...</td>\n",
       "    </tr>\n",
       "  </tbody>\n",
       "</table>\n",
       "</div>"
      ],
      "text/plain": [
       "       textID                                               text sentiment  \\\n",
       "0  cb774db0d1                I`d have responded, if I were going   neutral   \n",
       "1  549e992a42      Sooo SAD I will miss you here in San Diego!!!  negative   \n",
       "2  088c60f138                          my boss is bullying me...  negative   \n",
       "3  9642c003ef                     what interview! leave me alone  negative   \n",
       "4  358bd9e861   Sons of ****, why couldn`t they put them on t...  negative   \n",
       "\n",
       "                                      text_UpperCase  \\\n",
       "0                I`D HAVE RESPONDED, IF I WERE GOING   \n",
       "1      SOOO SAD I WILL MISS YOU HERE IN SAN DIEGO!!!   \n",
       "2                          MY BOSS IS BULLYING ME...   \n",
       "3                     WHAT INTERVIEW! LEAVE ME ALONE   \n",
       "4   SONS OF ****, WHY COULDN`T THEY PUT THEM ON T...   \n",
       "\n",
       "                                      no_txt_contrac  \\\n",
       "0            I WOULD HAVE RESPONDED, IF I WERE GOING   \n",
       "1      SOOO SAD I WILL MISS YOU HERE IN SAN DIEGO!!!   \n",
       "2                          MY BOSS IS BULLYING ME...   \n",
       "3                     WHAT INTERVIEW! LEAVE ME ALONE   \n",
       "4  SONS OF ****, WHY COULD NOT THEY PUT THEM ON T...   \n",
       "\n",
       "                                          Clean_text  \\\n",
       "0             I WOULD HAVE RESPONDED IF I WERE GOING   \n",
       "1         SOOO SAD I WILL MISS YOU HERE IN SAN DIEGO   \n",
       "2                             MY BOSS IS BULLYING ME   \n",
       "3                      WHAT INTERVIEW LEAVE ME ALONE   \n",
       "4  SONS OF  WHY COULD NOT THEY PUT THEM ON THE RE...   \n",
       "\n",
       "                                      tokenized_text  \\\n",
       "0    [I, WOULD, HAVE, RESPONDED, IF, I, WERE, GOING]   \n",
       "1  [SOOO, SAD, I, WILL, MISS, YOU, HERE, IN, SAN,...   \n",
       "2                       [MY, BOSS, IS, BULLYING, ME]   \n",
       "3                [WHAT, INTERVIEW, LEAVE, ME, ALONE]   \n",
       "4  [SONS, OF, WHY, COULD, NOT, THEY, PUT, THEM, O...   \n",
       "\n",
       "                                           stopwords  \n",
       "0    [I, WOULD, HAVE, RESPONDED, IF, I, WERE, GOING]  \n",
       "1  [SOOO, SAD, I, WILL, MISS, YOU, HERE, IN, SAN,...  \n",
       "2                       [MY, BOSS, IS, BULLYING, ME]  \n",
       "3                [WHAT, INTERVIEW, LEAVE, ME, ALONE]  \n",
       "4  [SONS, OF, WHY, COULD, NOT, THEY, PUT, THEM, O...  "
      ]
     },
     "execution_count": 237,
     "metadata": {},
     "output_type": "execute_result"
    }
   ],
   "source": [
    "#Removing Stopword from text\n",
    "stop = set(stopwords.words('english'))\n",
    "tweet_df['stopwords'] = tweet_df['tokenized_text'].apply(lambda t: [word for word in t if word not in stop])\n",
    "tweet_df.head()"
   ]
  },
  {
   "cell_type": "code",
   "execution_count": 243,
   "id": "54bada05",
   "metadata": {},
   "outputs": [
    {
     "data": {
      "text/html": [
       "<div>\n",
       "<style scoped>\n",
       "    .dataframe tbody tr th:only-of-type {\n",
       "        vertical-align: middle;\n",
       "    }\n",
       "\n",
       "    .dataframe tbody tr th {\n",
       "        vertical-align: top;\n",
       "    }\n",
       "\n",
       "    .dataframe thead th {\n",
       "        text-align: right;\n",
       "    }\n",
       "</style>\n",
       "<table border=\"1\" class=\"dataframe\">\n",
       "  <thead>\n",
       "    <tr style=\"text-align: right;\">\n",
       "      <th></th>\n",
       "      <th>textID</th>\n",
       "      <th>text</th>\n",
       "      <th>sentiment</th>\n",
       "      <th>text_UpperCase</th>\n",
       "      <th>no_txt_contrac</th>\n",
       "      <th>Clean_text</th>\n",
       "      <th>tokenized_text</th>\n",
       "      <th>stopwords</th>\n",
       "      <th>Tagging</th>\n",
       "    </tr>\n",
       "  </thead>\n",
       "  <tbody>\n",
       "    <tr>\n",
       "      <th>0</th>\n",
       "      <td>cb774db0d1</td>\n",
       "      <td>I`d have responded, if I were going</td>\n",
       "      <td>neutral</td>\n",
       "      <td>I`D HAVE RESPONDED, IF I WERE GOING</td>\n",
       "      <td>I WOULD HAVE RESPONDED, IF I WERE GOING</td>\n",
       "      <td>I WOULD HAVE RESPONDED IF I WERE GOING</td>\n",
       "      <td>[I, WOULD, HAVE, RESPONDED, IF, I, WERE, GOING]</td>\n",
       "      <td>[I, WOULD, HAVE, RESPONDED, IF, I, WERE, GOING]</td>\n",
       "      <td>[(I, n), (WOULD, v), (HAVE, n), (RESPONDED, n)...</td>\n",
       "    </tr>\n",
       "    <tr>\n",
       "      <th>1</th>\n",
       "      <td>549e992a42</td>\n",
       "      <td>Sooo SAD I will miss you here in San Diego!!!</td>\n",
       "      <td>negative</td>\n",
       "      <td>SOOO SAD I WILL MISS YOU HERE IN SAN DIEGO!!!</td>\n",
       "      <td>SOOO SAD I WILL MISS YOU HERE IN SAN DIEGO!!!</td>\n",
       "      <td>SOOO SAD I WILL MISS YOU HERE IN SAN DIEGO</td>\n",
       "      <td>[SOOO, SAD, I, WILL, MISS, YOU, HERE, IN, SAN,...</td>\n",
       "      <td>[SOOO, SAD, I, WILL, MISS, YOU, HERE, IN, SAN,...</td>\n",
       "      <td>[(SOOO, n), (SAD, n), (I, n), (WILL, v), (MISS...</td>\n",
       "    </tr>\n",
       "    <tr>\n",
       "      <th>2</th>\n",
       "      <td>088c60f138</td>\n",
       "      <td>my boss is bullying me...</td>\n",
       "      <td>negative</td>\n",
       "      <td>MY BOSS IS BULLYING ME...</td>\n",
       "      <td>MY BOSS IS BULLYING ME...</td>\n",
       "      <td>MY BOSS IS BULLYING ME</td>\n",
       "      <td>[MY, BOSS, IS, BULLYING, ME]</td>\n",
       "      <td>[MY, BOSS, IS, BULLYING, ME]</td>\n",
       "      <td>[(MY, n), (BOSS, n), (IS, n), (BULLYING, n), (...</td>\n",
       "    </tr>\n",
       "    <tr>\n",
       "      <th>3</th>\n",
       "      <td>9642c003ef</td>\n",
       "      <td>what interview! leave me alone</td>\n",
       "      <td>negative</td>\n",
       "      <td>WHAT INTERVIEW! LEAVE ME ALONE</td>\n",
       "      <td>WHAT INTERVIEW! LEAVE ME ALONE</td>\n",
       "      <td>WHAT INTERVIEW LEAVE ME ALONE</td>\n",
       "      <td>[WHAT, INTERVIEW, LEAVE, ME, ALONE]</td>\n",
       "      <td>[WHAT, INTERVIEW, LEAVE, ME, ALONE]</td>\n",
       "      <td>[(WHAT, n), (INTERVIEW, n), (LEAVE, n), (ME, n...</td>\n",
       "    </tr>\n",
       "    <tr>\n",
       "      <th>4</th>\n",
       "      <td>358bd9e861</td>\n",
       "      <td>Sons of ****, why couldn`t they put them on t...</td>\n",
       "      <td>negative</td>\n",
       "      <td>SONS OF ****, WHY COULDN`T THEY PUT THEM ON T...</td>\n",
       "      <td>SONS OF ****, WHY COULD NOT THEY PUT THEM ON T...</td>\n",
       "      <td>SONS OF  WHY COULD NOT THEY PUT THEM ON THE RE...</td>\n",
       "      <td>[SONS, OF, WHY, COULD, NOT, THEY, PUT, THEM, O...</td>\n",
       "      <td>[SONS, OF, WHY, COULD, NOT, THEY, PUT, THEM, O...</td>\n",
       "      <td>[(SONS, n), (OF, n), (WHY, n), (COULD, n), (NO...</td>\n",
       "    </tr>\n",
       "  </tbody>\n",
       "</table>\n",
       "</div>"
      ],
      "text/plain": [
       "       textID                                               text sentiment  \\\n",
       "0  cb774db0d1                I`d have responded, if I were going   neutral   \n",
       "1  549e992a42      Sooo SAD I will miss you here in San Diego!!!  negative   \n",
       "2  088c60f138                          my boss is bullying me...  negative   \n",
       "3  9642c003ef                     what interview! leave me alone  negative   \n",
       "4  358bd9e861   Sons of ****, why couldn`t they put them on t...  negative   \n",
       "\n",
       "                                      text_UpperCase  \\\n",
       "0                I`D HAVE RESPONDED, IF I WERE GOING   \n",
       "1      SOOO SAD I WILL MISS YOU HERE IN SAN DIEGO!!!   \n",
       "2                          MY BOSS IS BULLYING ME...   \n",
       "3                     WHAT INTERVIEW! LEAVE ME ALONE   \n",
       "4   SONS OF ****, WHY COULDN`T THEY PUT THEM ON T...   \n",
       "\n",
       "                                      no_txt_contrac  \\\n",
       "0            I WOULD HAVE RESPONDED, IF I WERE GOING   \n",
       "1      SOOO SAD I WILL MISS YOU HERE IN SAN DIEGO!!!   \n",
       "2                          MY BOSS IS BULLYING ME...   \n",
       "3                     WHAT INTERVIEW! LEAVE ME ALONE   \n",
       "4  SONS OF ****, WHY COULD NOT THEY PUT THEM ON T...   \n",
       "\n",
       "                                          Clean_text  \\\n",
       "0             I WOULD HAVE RESPONDED IF I WERE GOING   \n",
       "1         SOOO SAD I WILL MISS YOU HERE IN SAN DIEGO   \n",
       "2                             MY BOSS IS BULLYING ME   \n",
       "3                      WHAT INTERVIEW LEAVE ME ALONE   \n",
       "4  SONS OF  WHY COULD NOT THEY PUT THEM ON THE RE...   \n",
       "\n",
       "                                      tokenized_text  \\\n",
       "0    [I, WOULD, HAVE, RESPONDED, IF, I, WERE, GOING]   \n",
       "1  [SOOO, SAD, I, WILL, MISS, YOU, HERE, IN, SAN,...   \n",
       "2                       [MY, BOSS, IS, BULLYING, ME]   \n",
       "3                [WHAT, INTERVIEW, LEAVE, ME, ALONE]   \n",
       "4  [SONS, OF, WHY, COULD, NOT, THEY, PUT, THEM, O...   \n",
       "\n",
       "                                           stopwords  \\\n",
       "0    [I, WOULD, HAVE, RESPONDED, IF, I, WERE, GOING]   \n",
       "1  [SOOO, SAD, I, WILL, MISS, YOU, HERE, IN, SAN,...   \n",
       "2                       [MY, BOSS, IS, BULLYING, ME]   \n",
       "3                [WHAT, INTERVIEW, LEAVE, ME, ALONE]   \n",
       "4  [SONS, OF, WHY, COULD, NOT, THEY, PUT, THEM, O...   \n",
       "\n",
       "                                             Tagging  \n",
       "0  [(I, n), (WOULD, v), (HAVE, n), (RESPONDED, n)...  \n",
       "1  [(SOOO, n), (SAD, n), (I, n), (WILL, v), (MISS...  \n",
       "2  [(MY, n), (BOSS, n), (IS, n), (BULLYING, n), (...  \n",
       "3  [(WHAT, n), (INTERVIEW, n), (LEAVE, n), (ME, n...  \n",
       "4  [(SONS, n), (OF, n), (WHY, n), (COULD, n), (NO...  "
      ]
     },
     "execution_count": 243,
     "metadata": {},
     "output_type": "execute_result"
    }
   ],
   "source": [
    "#After we have tokenized and removed stop words \n",
    "#Lets add POS(Parts of speeech) tagging to each word\n",
    "tweet_df['Tagging'] = tweet_df['stopwords'].apply(lambda t: nltk.tag.pos_tag(t))\n",
    "\n",
    "# now converting them to adjective, verb, noun and adverb\n",
    "def get_Tagging(Tagging):\n",
    "    if Tagging.startswith('J'):\n",
    "        return wordnet.ADJ\n",
    "    elif Tagging.startswith('V'):\n",
    "        return wordnet.VERB\n",
    "    elif Tagging.startswith('N'):\n",
    "        return wordnet.NOUN\n",
    "    elif Tagging.startswith('R'):\n",
    "        return wordnet.ADV\n",
    "    else:\n",
    "        return wordnet.NOUN\n",
    "\n",
    "    \n",
    "tweet_df['Tagging'] = tweet_df['Tagging'].apply(lambda x: [(word, get_Tagging(Tagging)) \n",
    "                                                               for (word, Tagging) in x])\n",
    "tweet_df.head()"
   ]
  },
  {
   "cell_type": "code",
   "execution_count": 254,
   "id": "f5f5b768",
   "metadata": {
    "scrolled": true
   },
   "outputs": [
    {
     "data": {
      "text/html": [
       "<div>\n",
       "<style scoped>\n",
       "    .dataframe tbody tr th:only-of-type {\n",
       "        vertical-align: middle;\n",
       "    }\n",
       "\n",
       "    .dataframe tbody tr th {\n",
       "        vertical-align: top;\n",
       "    }\n",
       "\n",
       "    .dataframe thead th {\n",
       "        text-align: right;\n",
       "    }\n",
       "</style>\n",
       "<table border=\"1\" class=\"dataframe\">\n",
       "  <thead>\n",
       "    <tr style=\"text-align: right;\">\n",
       "      <th></th>\n",
       "      <th>textID</th>\n",
       "      <th>text</th>\n",
       "      <th>sentiment</th>\n",
       "      <th>text_UpperCase</th>\n",
       "      <th>no_txt_contrac</th>\n",
       "      <th>Clean_text</th>\n",
       "      <th>tokenized_text</th>\n",
       "      <th>stopwords</th>\n",
       "      <th>Tagging</th>\n",
       "      <th>lemmatization</th>\n",
       "    </tr>\n",
       "  </thead>\n",
       "  <tbody>\n",
       "    <tr>\n",
       "      <th>0</th>\n",
       "      <td>cb774db0d1</td>\n",
       "      <td>I`d have responded, if I were going</td>\n",
       "      <td>neutral</td>\n",
       "      <td>I`D HAVE RESPONDED, IF I WERE GOING</td>\n",
       "      <td>I WOULD HAVE RESPONDED, IF I WERE GOING</td>\n",
       "      <td>I WOULD HAVE RESPONDED IF I WERE GOING</td>\n",
       "      <td>[I, WOULD, HAVE, RESPONDED, IF, I, WERE, GOING]</td>\n",
       "      <td>[I, WOULD, HAVE, RESPONDED, IF, I, WERE, GOING]</td>\n",
       "      <td>[(I, n), (WOULD, v), (HAVE, n), (RESPONDED, n)...</td>\n",
       "      <td>[I, WOULD, HAVE, RESPONDED, IF, I, WERE, GOING]</td>\n",
       "    </tr>\n",
       "    <tr>\n",
       "      <th>1</th>\n",
       "      <td>549e992a42</td>\n",
       "      <td>Sooo SAD I will miss you here in San Diego!!!</td>\n",
       "      <td>negative</td>\n",
       "      <td>SOOO SAD I WILL MISS YOU HERE IN SAN DIEGO!!!</td>\n",
       "      <td>SOOO SAD I WILL MISS YOU HERE IN SAN DIEGO!!!</td>\n",
       "      <td>SOOO SAD I WILL MISS YOU HERE IN SAN DIEGO</td>\n",
       "      <td>[SOOO, SAD, I, WILL, MISS, YOU, HERE, IN, SAN,...</td>\n",
       "      <td>[SOOO, SAD, I, WILL, MISS, YOU, HERE, IN, SAN,...</td>\n",
       "      <td>[(SOOO, n), (SAD, n), (I, n), (WILL, v), (MISS...</td>\n",
       "      <td>[SOOO, SAD, I, WILL, MISS, YOU, HERE, IN, SAN,...</td>\n",
       "    </tr>\n",
       "    <tr>\n",
       "      <th>2</th>\n",
       "      <td>088c60f138</td>\n",
       "      <td>my boss is bullying me...</td>\n",
       "      <td>negative</td>\n",
       "      <td>MY BOSS IS BULLYING ME...</td>\n",
       "      <td>MY BOSS IS BULLYING ME...</td>\n",
       "      <td>MY BOSS IS BULLYING ME</td>\n",
       "      <td>[MY, BOSS, IS, BULLYING, ME]</td>\n",
       "      <td>[MY, BOSS, IS, BULLYING, ME]</td>\n",
       "      <td>[(MY, n), (BOSS, n), (IS, n), (BULLYING, n), (...</td>\n",
       "      <td>[MY, BOSS, IS, BULLYING, ME]</td>\n",
       "    </tr>\n",
       "    <tr>\n",
       "      <th>3</th>\n",
       "      <td>9642c003ef</td>\n",
       "      <td>what interview! leave me alone</td>\n",
       "      <td>negative</td>\n",
       "      <td>WHAT INTERVIEW! LEAVE ME ALONE</td>\n",
       "      <td>WHAT INTERVIEW! LEAVE ME ALONE</td>\n",
       "      <td>WHAT INTERVIEW LEAVE ME ALONE</td>\n",
       "      <td>[WHAT, INTERVIEW, LEAVE, ME, ALONE]</td>\n",
       "      <td>[WHAT, INTERVIEW, LEAVE, ME, ALONE]</td>\n",
       "      <td>[(WHAT, n), (INTERVIEW, n), (LEAVE, n), (ME, n...</td>\n",
       "      <td>[WHAT, INTERVIEW, LEAVE, ME, ALONE]</td>\n",
       "    </tr>\n",
       "    <tr>\n",
       "      <th>4</th>\n",
       "      <td>358bd9e861</td>\n",
       "      <td>Sons of ****, why couldn`t they put them on t...</td>\n",
       "      <td>negative</td>\n",
       "      <td>SONS OF ****, WHY COULDN`T THEY PUT THEM ON T...</td>\n",
       "      <td>SONS OF ****, WHY COULD NOT THEY PUT THEM ON T...</td>\n",
       "      <td>SONS OF  WHY COULD NOT THEY PUT THEM ON THE RE...</td>\n",
       "      <td>[SONS, OF, WHY, COULD, NOT, THEY, PUT, THEM, O...</td>\n",
       "      <td>[SONS, OF, WHY, COULD, NOT, THEY, PUT, THEM, O...</td>\n",
       "      <td>[(SONS, n), (OF, n), (WHY, n), (COULD, n), (NO...</td>\n",
       "      <td>[SONS, OF, WHY, COULD, NOT, THEY, PUT, THEM, O...</td>\n",
       "    </tr>\n",
       "  </tbody>\n",
       "</table>\n",
       "</div>"
      ],
      "text/plain": [
       "       textID                                               text sentiment  \\\n",
       "0  cb774db0d1                I`d have responded, if I were going   neutral   \n",
       "1  549e992a42      Sooo SAD I will miss you here in San Diego!!!  negative   \n",
       "2  088c60f138                          my boss is bullying me...  negative   \n",
       "3  9642c003ef                     what interview! leave me alone  negative   \n",
       "4  358bd9e861   Sons of ****, why couldn`t they put them on t...  negative   \n",
       "\n",
       "                                      text_UpperCase  \\\n",
       "0                I`D HAVE RESPONDED, IF I WERE GOING   \n",
       "1      SOOO SAD I WILL MISS YOU HERE IN SAN DIEGO!!!   \n",
       "2                          MY BOSS IS BULLYING ME...   \n",
       "3                     WHAT INTERVIEW! LEAVE ME ALONE   \n",
       "4   SONS OF ****, WHY COULDN`T THEY PUT THEM ON T...   \n",
       "\n",
       "                                      no_txt_contrac  \\\n",
       "0            I WOULD HAVE RESPONDED, IF I WERE GOING   \n",
       "1      SOOO SAD I WILL MISS YOU HERE IN SAN DIEGO!!!   \n",
       "2                          MY BOSS IS BULLYING ME...   \n",
       "3                     WHAT INTERVIEW! LEAVE ME ALONE   \n",
       "4  SONS OF ****, WHY COULD NOT THEY PUT THEM ON T...   \n",
       "\n",
       "                                          Clean_text  \\\n",
       "0             I WOULD HAVE RESPONDED IF I WERE GOING   \n",
       "1         SOOO SAD I WILL MISS YOU HERE IN SAN DIEGO   \n",
       "2                             MY BOSS IS BULLYING ME   \n",
       "3                      WHAT INTERVIEW LEAVE ME ALONE   \n",
       "4  SONS OF  WHY COULD NOT THEY PUT THEM ON THE RE...   \n",
       "\n",
       "                                      tokenized_text  \\\n",
       "0    [I, WOULD, HAVE, RESPONDED, IF, I, WERE, GOING]   \n",
       "1  [SOOO, SAD, I, WILL, MISS, YOU, HERE, IN, SAN,...   \n",
       "2                       [MY, BOSS, IS, BULLYING, ME]   \n",
       "3                [WHAT, INTERVIEW, LEAVE, ME, ALONE]   \n",
       "4  [SONS, OF, WHY, COULD, NOT, THEY, PUT, THEM, O...   \n",
       "\n",
       "                                           stopwords  \\\n",
       "0    [I, WOULD, HAVE, RESPONDED, IF, I, WERE, GOING]   \n",
       "1  [SOOO, SAD, I, WILL, MISS, YOU, HERE, IN, SAN,...   \n",
       "2                       [MY, BOSS, IS, BULLYING, ME]   \n",
       "3                [WHAT, INTERVIEW, LEAVE, ME, ALONE]   \n",
       "4  [SONS, OF, WHY, COULD, NOT, THEY, PUT, THEM, O...   \n",
       "\n",
       "                                             Tagging  \\\n",
       "0  [(I, n), (WOULD, v), (HAVE, n), (RESPONDED, n)...   \n",
       "1  [(SOOO, n), (SAD, n), (I, n), (WILL, v), (MISS...   \n",
       "2  [(MY, n), (BOSS, n), (IS, n), (BULLYING, n), (...   \n",
       "3  [(WHAT, n), (INTERVIEW, n), (LEAVE, n), (ME, n...   \n",
       "4  [(SONS, n), (OF, n), (WHY, n), (COULD, n), (NO...   \n",
       "\n",
       "                                       lemmatization  \n",
       "0    [I, WOULD, HAVE, RESPONDED, IF, I, WERE, GOING]  \n",
       "1  [SOOO, SAD, I, WILL, MISS, YOU, HERE, IN, SAN,...  \n",
       "2                       [MY, BOSS, IS, BULLYING, ME]  \n",
       "3                [WHAT, INTERVIEW, LEAVE, ME, ALONE]  \n",
       "4  [SONS, OF, WHY, COULD, NOT, THEY, PUT, THEM, O...  "
      ]
     },
     "execution_count": 254,
     "metadata": {},
     "output_type": "execute_result"
    }
   ],
   "source": [
    "from nltk.stem import WordNetLemmatizer\n",
    "lm = nltk.WordNetLemmatizer()\n",
    "tweet_df['lemmatization'] = tweet_df['Tagging'].apply(lambda l:[lm.lemmatize(w,t) for w ,t in l])\n",
    "tweet_df.head()"
   ]
  },
  {
   "cell_type": "code",
   "execution_count": null,
   "id": "2b632b92",
   "metadata": {},
   "outputs": [],
   "source": [
    "T"
   ]
  },
  {
   "cell_type": "markdown",
   "id": "031a40ec",
   "metadata": {},
   "source": [
    "Stopwords \n",
    "tokenizing \n",
    "pos tags\n",
    "wordnet pos\n",
    "lemmatizeing\n",
    "ngram-uni gram bigram"
   ]
  }
 ],
 "metadata": {
  "kernelspec": {
   "display_name": "Python 3 (ipykernel)",
   "language": "python",
   "name": "python3"
  },
  "language_info": {
   "codemirror_mode": {
    "name": "ipython",
    "version": 3
   },
   "file_extension": ".py",
   "mimetype": "text/x-python",
   "name": "python",
   "nbconvert_exporter": "python",
   "pygments_lexer": "ipython3",
   "version": "3.9.7"
  }
 },
 "nbformat": 4,
 "nbformat_minor": 5
}
